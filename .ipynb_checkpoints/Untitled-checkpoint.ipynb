{
 "cells": [
  {
   "cell_type": "code",
   "execution_count": null,
   "metadata": {},
   "outputs": [],
   "source": [
    "import json\n",
    "\n",
    "# create a dictionary to store your twitter credentials\n",
    "\n",
    "twitter_cred = dict()\n",
    "\n",
    "# Enter your own consumer_key, consumer_secret, access_key and access_secret\n",
    "# Replacing the stars (\"********\")\n",
    "\n",
    "twitter_cred['CONSUMER_KEY'] = input('consumer key:\\n')\n",
    "twitter_cred['CONSUMER_SECRET'] = input('consumer secret:\\n')\n",
    "twitter_cred['ACCESS_KEY'] = input('access key:\\n')\n",
    "twitter_cred['ACCESS_SECRET'] = input('access secret:\\n')\n",
    "\n",
    "# Save the information to a json so that it can be reused in code without exposing\n",
    "# the secret info to public\n",
    "\n",
    "with open('twitter_credentials.json', 'w') as secret_info:\n",
    "    json.dump(twitter_cred, secret_info, indent=4, sort_keys=True)"
   ]
  }
 ],
 "metadata": {
  "kernelspec": {
   "display_name": "Python 3",
   "language": "python",
   "name": "python3"
  },
  "language_info": {
   "codemirror_mode": {
    "name": "ipython",
    "version": 3
   },
   "file_extension": ".py",
   "mimetype": "text/x-python",
   "name": "python",
   "nbconvert_exporter": "python",
   "pygments_lexer": "ipython3",
   "version": "3.6.5"
  }
 },
 "nbformat": 4,
 "nbformat_minor": 2
}
